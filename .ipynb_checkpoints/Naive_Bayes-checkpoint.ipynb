{
 "cells": [
  {
   "cell_type": "code",
   "execution_count": 1,
   "metadata": {},
   "outputs": [],
   "source": [
    "import csv\n",
    "import Preprocessing as ppy"
   ]
  },
  {
   "cell_type": "code",
   "execution_count": 2,
   "metadata": {},
   "outputs": [],
   "source": [
    "def openFileCsv(namaFile):\n",
    "    data_hasil = []\n",
    "    with open(namaFile, mode='r', encoding='utf8') as csv_file:\n",
    "        csv_reader = csv.DictReader(csv_file)\n",
    "        line_count = 0\n",
    "        for row in csv_reader:\n",
    "            data_hasil.append(row)\n",
    "            line_count += 1\n",
    "        print(f'Processed {line_count} lines.')\n",
    "    return data_hasil"
   ]
  },
  {
   "cell_type": "code",
   "execution_count": 3,
   "metadata": {},
   "outputs": [],
   "source": [
    "def getData():\n",
    "    data = openFileCsv('data_training.csv')\n",
    "    newData = []\n",
    "    for i in range(len(data)):\n",
    "        newData.append([ppy.generateTermInSentence(data[i][\"Teks\"]), data[i][\"label\"]])\n",
    "    return newData\n",
    "# print(getData())"
   ]
  },
  {
   "cell_type": "code",
   "execution_count": 4,
   "metadata": {},
   "outputs": [
    {
     "name": "stdout",
     "output_type": "stream",
     "text": [
      "Processed 914 lines.\n",
      "['kfc', 'yg', 'deket', 'enhaii', 'dy', 'maaf', 'janji', 'penuh', 'bunga', 'ato', 'coklat', 'min', 'sambl', 'nunggu', 'gimana', 'kalo', 'ngerjain', 'form', 'formnya', 'aja', 'akademik', 'perhati', 'tuk', 'jadwal', 'kontrak', 'kuliah', 'ang', 'sebenarny', 'kur', 'bayang', 'tuju', 'ga', 'laku', 'mk', 'jalan', 'spt', 'skripsi', 'sidang', 'harap', 'info', 'pla', 'assalam', 'ambil', 'wajib', 'kumpul', 'kamis', 'agustus', 'wibb', 'agenda', 'bekal', 'gdg', 'jica', 'lt', 'r', 's', 'informasiny', 'd', 'sebar', 'teman', 'data', 'asisten', 'bukti', 'upa', 'surat', 'terang', 'andri', 'daftar', 'langgan', 'tcash', 'full', 'service', 'tingkat', 'saldo', 'dg', 'isi', 'merchant', 'logo', 'pin', 'silah', 'nikmat', 'layan', 'telkomsel', 'mad', 'bingung', 'bkn', 'lapor', 'aamiin', 'makasih', 'moga', 'cepat', 'lulus', 'nyusul', 'urus', 'lancar', 'allah', 'abis', 'maghrib', 'yaa', 'warkop', 'indomaret', 'gum', 'bip', 'studio', 'foto', 'gitu', 'nama', 'tpi', 'gatau', 'msh', 'fungsi', 'engga', 'udh', 'dipake', 'sih', 'ruang', 'nya', 'internet', 'alamat', 'dmn', 'mba', 'harga', 'fasilitas', 'air', 'hangat', 'kamar', 'mandi', 'tv', 'kabel', 'wifi', 'meja', 'tdr', 'lemari', 'instagram', 'asa', 'nyesel', 'gt', 'merhatin', 'ngerangkul', 'pribadi', 'hmm', 'pandu', 'dishare', 'grup', 'fb', 'muda', 'tp', 'liat', 'bahagia', 'one', 'of', 'a', 'million', 'kayak', 'temen', 'ku', 'teh', 'dikpad', 'kontak', 'rb', 'ikan', 'tempe', 'gagal', 'pacar', 'eh', 'putus', 'alesannya', 'karna', 'sayang', 'jd', 'gak', 'nyakitin', 'pret', 'jagain', 'jodoh', 'org', 'ah', 'tau', 'daya', 'fpmipa', 'b', 'tdk', 'jam', 'pagi', 'aduh', 'ge', 'pusing', 'lamar', 'nyari', 'butuh', 'aigoo', 'banget', 'chatnyaa', 'hape', 'besok', 'papa', 'ajakin', 'soekarno', 'hatta', 'makan', 'eatboss', 'spagetti', 'kaldaluarsa', 'bawa', 'daging', 'dah', 'rebus', 'gapapa', 'mentah', 'tinggal', 'tulang', 'dtg', 'telat', 'ngga', 'ya', 'delete', 'ntar', 'pull', 'sync', 'masukin', 'push', 'pasca', 'skrng', 'pt', 'restu', 'jg', 'krna', 'enak', 'euy', 'bilang', 'adik', 'ken', 'pvj', 'upi', 'doang', 'pake', 'grab', 'siang', 'blm', 'berangkt', 'rumah', 'lg', 'gara', 'kulkas', 'rusak', 'suka', 'nyetok', 'sayur', 'tgl', 'juli', 'selesai', 'besoook', 'pon', 'haris', 'kerja', 'sore', 'mo', 'mah', 'plg', 'ketemu', 'ayah', 'mama', 'jual', 'marah', 'duit', 'km', 'diem', 'lgsg', 'haha', 'balon', 'sm', 'nitip', 'dibutuhin', 'tabel', 'geleh', 'sendiiri', 'lipstik', 'merah', 'wkkw', 'dapet', 'kasih', 'updatenya', 'udah', 'template', 'adminlte', 'senin', 'minggu', 'gaktau', 'celana', 'jeans', 'tua', 'jilbab', 'alhamdulillah', 'yaaa', 'luang', 'puji', 'syukur', 'swt', 'hidup', 'detik', 'evaluasi', 'sadar', 'khilaf', 'salah', 'alhamdullilah', 'beres', 'group', 'manfaat', 'diskusi', 'topik', 'kait', 'andipublisher', 'com', 'po', 'bank', 'mandiri', 'bjam', 'jakarta', 'text', 'essay', 'nih', 'murid', 'guru', 'si', 'ngasih', 'uji', 'hasil', 'dibandingin', 'bener', 'trs', 'outputnya', 'skor', 'db', 'anomali', 'nyesuain', 'cuman', 'nambah', 'table', 'ulang', 'ird', 'master', 'samain', 'pasien', 'assalamualaikum', 'akang', 'teteh', 'lupa', 'carrier', 'day', 'exhibition', 'love', 'hayuu', 'ditungguuu', 'bu', 'mhsi', 'ilkom', 'dpt', 'bimbing', 'mohon', 'kampus', 'ap', 'aj', 'terima', 'nanya', 'putar', 'mobcom', 'sp', 'pas', 'trims', 'remedial', 'dwm', 'hadir', 'online', 'td', 'ninggalin', 'proposal', 'printer', 'assalamu', 'alaikum', 'wr', 'wb', 'tahap', 'bantu', 'file', 'nilai', 'gaperlu', 'tolong', 'kirimin', 'kunci', 'make', 'jne', 'cenah', 'ip', 'atuhlah', 'nyaah', 'jgn', 'gitulah', 'gais', 'bis', 'atulah', 'ngidam', 'sate', 'maranggi', 'dr', 'puasa', 'naha', 'ka', 'subang', 'teu', 'ngajakan', 'ih', 'ayam', 'paket', 'menu', 'bakar', 'kremes', 'cabe', 'ijo', 'lada', 'hitam', 'asam', 'manis', 'rica', 'baberque', 'nasi', 'lalap', 'sambal', 'mineral', 'gelas', 'anggar', 'ayo', 'semangat', 'yaaah', 'biar', 'cpt', 'wkwkwk', 'serah', 'dgn', 'jilid', 'sdg', 'sabar', 'sesuai', 'waktupenguji', 'tarik', 'gemastik', 'arti', 'kantor', 'bsk', 'berkas', 'bal', 'kudu', 'atuh', 'ngeh', 'chatnya', 'bebas', 'libur', 'pajuin', 'sabtu', 'stuju', 'kebapain', 'program', 'beli', 'es', 'kelapa', 'besto', 'de', 'kagi', 'nyoba', 'ngejar', 'pa', 'insya', 'mudah', 'eka', 'bentar', 'gik', 'buru', 'ngontrak', 'ipc', 'palasari', 'skrg', 'langsung', 'kasihin', 'softfilenya', 'gpp', 'praktikum', 'weka', 'laptop', 'berapaa', 'kali', 'skip', 'tunggu', 'rapat', 'dinas', 'selasa', 'yuk', 'bih', 'beu', 'pulang', 'ppl', 'rapih', 'controllernya', 'gabung', 'bikin', 'biasana', 'sampe', 'weekend', 'stasiun', 'lewatin', 'rel', 'da', 'buka', 'acara', 'bebek', 'komar', 'iti', 'turun', 'cegah', 'bantuin', 'beberes', 'masak', 'cek', 'bgt', 'gedorin', 'sep', 'byk', 'bug', 'ntr', 'ktmu', 'bntr', 'sholat', 'mel', 'upinet', 'males', 'bole', 'duaduanya', 'pen', 'hardcover', 'usaha', 'ttd', 'pindah', 'berat', 'kabarin', 'install', 'installernya', 'gang', 'softball', 'kmna', 'gtu', 'alhuda', 'ramen', 'aa', 'bsok', 'kmpul', 'gmna', 'gin', 'vote', 'sapa', 'btw', 'magicomnya', 'gaada', 'gede', 'jumat', 'solat', 'mastiin', 'mahasiswa', 'sapi', 'dmna', 'pantai', 'cape', 'susah', 'pikir', 'panggil', 'na', 'cari', 'murah', 'riah', 'kualiatasnya', 'bagus', 'cerita', 'tetep', 'nang', 'coba', 'prodi', 'punten', 'liatin', 'tulis', 'suruh', 'brp', 'nuhun', 'kadang', 'cewe', 'overthink', 'overreact', 'alquran', 'sbgai', 'pedoman', 'iman', 'public', 'dimasukin', 'sebenernya', 'indomie', 'gagas', 'ixindo', 'bima', 'pratama', 'sma', 'sukarnohatta', 'purwakarta', 'smk', 'pgi', 'swamedia', 'kang', 'no', 'medrec', 'sdgkn', 'register', 'field', 'beda', 'tablenya', 'derr', 'wacana', 'kaka', 'bunda', 'folder', 'sql', 'aya', 'rawatdaruat', 'sesuain', 'maneh', 'we', 'k', 'ente', 'jalanken', 'urg', 'mh', 'ngan', 'load', 'view', 'error', 'database', 'soalna', 'lieur', 'gabungken', 'belok', 'setiabudi', 'pom', 'bensin', 'colok', 'diagnosa', 'irj', 'helmkuuuu', 'kosan', 'yaaaaa', 'kirim', 'disatuin', 'selesei', 'machine', 'learningnya', 'nmr', 'ayu', 'sms', 'kl', 'dpn', 'controller', 'js', 'dropdown', 'kota', 'pakai', 'flash', 'animasi', 'movie', 'maker', 'gaaa', 'numpang', 'dooong', 'mnta', 'ss', 'bisns', 'proses', 'inti', 'maapin', 'line', 'pergi', 'note', 'dinamic', 'emil', 'kembaliin', 'gmana', 'makalah', 'desila', 'kmr', 'lantai', 'angka', 'dmana', 'hehe', 'doa', 'cepet', 'nyampe', 'malem', 'ciateul', 'kekalapa', 'frown', 'duh', 'gusti', 'ujan', 'riung', 'bocor', 'gila', 'namakuuu', 'luluuus', 'edan', 'keluarga', 'samawa', 'instances', 'deh', 'diload', 'bs', 'maksud', 'september', 'nanyain', 'iyaa', 'kado', 'makasihh', 'samarinda', 'brati', 'hbs', 'mgrib', 'takut', 'wk', 'emang', 'bayar', 'enakaa', 'ajaaa', 'gw', 'cowok', 'dijmput', 'malam', 'brgkt', 'eta', 'dokter', 'meren', 'pariksa', 'saha', 'lembar', 'kamrin', 'anto', 'bab', 'parafrase', 'kalimat', 'copy', 'paste', 'habis', 'kanto', 'web', 'akses', 'food', 'beras', 'birthday', 'gaaais', 'dlm', 'menit', 'nasabah', 'btpn', 'kyk', 'gaes', 'drakor', 'yawww', 'matiin', 'hp', 'kke', 'nyerahin', 'paedi', 'hard', 'source', 'cd', 'chat', 'baca', 'paham', 'ulg', 'dri', 'unisba', 'angkot', 'ngantor', 'sekalulian', 'kyknya', 'bapa', 'bls', 'gmn', 'tia', 'blg', 'lapang', 'tanyain', 'gajadi', 'gadiabsen', 'lebib', 'kaya', 'kwkw', 'percaya', 'dosa', 'tanggung', 'mobprog', 'gampang', 'tampil', 'batman', 'pdhl', 'nuy', 'bom', 'diinvite', 'apapa', 'keburu', 'poko', 'ngumpul', 'dlu', 'geng', 'brpa', 'respon', 'hadap', 'beliau', 'guys', 'motor', 'ngampus', 'temenin', 'laaah', 'unbearable', 'gabawa', 'pasar', 'bdg', 'studi', 'gaaak', 'promosi', 'macbook', 'layar', 'ram', 'ssd', 'garansi', 'sisa', 'jarang', 'pm', 'ganti', 'groupwherenya', 'github', 'groupwhere', 'cecer', 'filenya', 'ayook', 'bully', 'adi', 'ndut', 'hai', 'calon', 'pimpin', 'kemakom', 'periode', 'simak', 'kisar', 'masuk', 'hayu', 'disurvey', 'something', 'hbd', 'wisuda', 'aamiiiin', 'jebol', 'solder', 'jelek', 'eksekusi', 'jquery', 'control', 'dicotroller', 'klik', 'button', 'nyetak', 'pdf', 'hmmm', 'tiket', 'batam', 'gile', 'hub', 'dkt', 'wktnya', 'bobok', 'ttg', 'presto', 'gempa', 'mag', 'sr', 'wib', 'lok', 'ls', 'bt', 'tenggara', 'kedlmn', 'bmkg', 'hujan', 'gabisa', 'nyalain', 'kering', 'nyala', 'smg', 'ujannya', 'renti', 'gorengin', 'beneran', 'mewek', 'jamaah', 'insyaaallah', 'ikhlas', 'bahas', 'responnya', 'grapari', 'tf', 'bca', 'dummy', 'nur', 'tokopedi', 'bukalapak', 'lumayan', 'laa', 'complete', 'walopun', 'kw', 'jenis', 'sakit', 'orang', 'nemu', 'tugas', 'pentaho', 'presentasi', 'iya', 'inget', 'dinding', 'awet', 'hadiah', 'lab', 'jarkom', 'sigindo', 'tea', 'ko', 'sedih', 'gtau', 'bandung', 'maksimal', 'kosong', 'agus', 'sept', 'terkahir', 'kar', 'dikosan', 'singapur', 'gening', 'mock', 'up', 'put', 'alat', 'usahain', 'rabu', 'berangkat', 'ratarata', 'programmer', 'hirenya', 'csps', 'rj', 'rd', 'kamera', 'kecuali', 'lia', 'taro', 'situ', 'iyaaa', 'bumbu', 'dsb', 'irit', 'iyaaaa', 'ayyuuuukk', 'reuni', 'fir', 'mahal', 'kek', 'meet', 'upnyaa', 'tema', 'sibuk', 'mikirin', 'cowo', 'melulu', 'rawosi', 'barang', 'pilih', 'budget', 'desember', 'sodara', 'sok', 'uang', 'kas', 'jajar', 'kantin', 'kesana', 'pengkol', 'pokok', 'tulisanya', 'wid', 'brpnya', 'yaaaa', 'agendain', 'singgung', 'januari', 'fix', 'jemput', 'poskamling', 'cilimus', 'dee', 'kpnnnih', 'lampir', 'jemari', 'jabat', 'batin', 'rindu', 'pesan', 'silaturahmi', 'lahir', 'poin', 'kategori', 'red', 'des', 'kosannya', 'uts', 'take', 'home', 'cabai', 'box', 'jamin', 'gamepro', 'uasnya', 'materi', 'praktek', 'haluan', 'mending', 'y', 'pertable', 'emg', 'lbh', 'kdgkan', 'didr', 'bbrp', 'tuh', 'kalem', 'diantapani', 'intan', 'hher', 'ngomongin', 'daun', 'pepaya', 'bungkus', 'ngasihinnya', 'ashar', 'mnyesuaikan', 'prasidang', 'aqila', 'c', 'kabar', 'berita', 'raditya', 'dika', 'pandang', 'cinta', 'ubah', 'alami', 'patah', 'hati', 'hebat', 'kep', 'ribu', 'duduk', 'unpad', 'du', 'bahan', 'nonton', 'hr', 'week', 'end', 'cowonya', 'ngebatin', 'dijadiin', 'satpam', 'ad', 'progres', 'kesini', 'bandungg', 'ngapain', 'ngajakin', 'ngomong', 'rame', 'ma', 'ngeditnya', 'qaqa', 'gituch', 'menang', 'milyar', 'hahaha', 'prestasi', 'fip', 'pus', 'bntar', 'surabaya', 'kartu', 'sim', 'norek', 'belah', 'hak', 'untk', 'udunan', 'bts', 'trfr', 'niat', 'undang', 'yu', 'sblum', 'kolam', 'renang', 'gymnas', 'stay', 'pdg', 'cuss', 'parah', 'ngeroko', 'inspirasi', 'optimis', 'koreksi', 'nggak', 'mubazir', 'dibalikin', 'csv', 'transformasi', 'krn', 'dptkan', 'informasi', 'tri', 'via', 'aplikasi', 'bimatri', 'ratus', 'tabung', 'cabut', 'manaada', 'basdat', 'bareng', 'resto', 'periksa', 'instansiasi', 'new', 'tcpdf', 'gera', 'dianterin', 'lebay', 'meni', 'ama', 'lingkung', 'asap', 'ngerokok', 'construct', 'kmren', 'paksa', 'maaaaaaaaf', 'lupaaa', 'dadi', 'pisaaaan', 'aktif', 'nomor', 'bgmana', 'kaprodi', 'keyword', 'call', 'center', 'sila', 'terimakasih', 'pulsa', 'maafin', 'huhuhu', 'dila', 'kelompok', 'pegat', 'tibatiba', 'diapain', 'jatoh', 'juang', 'semuanyaaa', 'nanggung', 'mw', 'kdg', 'dblkg', 'hdr', 'isya', 'bobo', 'orek', 'gaaaa', 'wkwkwkwk', 'ngerasa', 'sungai', 'diil', 'mati', 'services', 'antivirus', 'dll', 'selempang', 'makasihhh', 'gojek', 'driver', 'gerlong', 'dibawain', 'kacamata', 'sunday', 'slainya', 'ditelfon', 'merica', 'jeruk', 'nipis', 'ajaa', 'mgkin', 'id', 'inpo', 'share', 'ngambil', 'kompas', 'hihu', 'mal', 'aidzin', 'walfaidin', 'lembang', 'git', 'ngubek', 'email', 'ipa', 'konfirmasi', 'dil', 'telkom', 'doain', 'tear', 'mul', 'snack', 'rafael', 'wajah', 'gaya', 'drpd', 'ngetem', 'macet', 'ledeng', 'terminal', 'kalapa', 'dayeuh', 'kolot', 'gnti', 'kuota', 'modem', 'siaraan', 'ksana', 'awas', 'dekstop', 'ngajak', 'wida', 'seminar', 'hihip', 'otp', 'link', 'teduh', 'promo', 'minat', 'transfer', 'maacih', 'tes', 'ngoding', 'net', 'gi', 'oh', 'oke', 'deposit', 'kmn', 'dt', 'pantesan', 'pusat', 'koneksi', 'lurah', 'nyata', 'oge', 'oiya', 'knapa', 'bsa', 'ok', 'lihat', 'm', 'blokir', 'smsin', 'asmul', 'kbtulan', 'free', 'wife', 'okayyy', 'dsni', 'reda', 'dtggu', 'dp', 'revisi', 'okeee', 'telor', 'segimana', 'okeyyy', 'oo', 'dit', 'ooh', 'klo', 'controler', 'model', 'ouhhh', 'yaudah', 'ngedeteksi', 'output', 'tombol', 'algoritma', 'ngerti', 'jamber', 'titip', 'trus', 'bujuk', 'porsi', 'sen', 'goreng', 'spesial', 'graha', 'desilla', 'remed', 'indeks', 'diturunin', 'kemaren', 'mining', 'kode', 'ik', 'penginputan', 'handy', 'cam', 'dadak', 'nyumbang', 'mangga', 'kikuk', 'diomongin', 'kampung', 'paspor', 'level', 'quotes', 'sdh', 'capai', 'batasfup', 'eks', 'dgninternetgaul', 'rp', 'minimum', 'wastukencana', 'serang', 'tariff', 'dasar', 'dokumen', 'draftnya', 'slide', 'indonesia', 'android', 'kejar', 'bekerjasama', 'depilkom', 'latih', 'intermediate', 'slot', 'syarat', 'app', 'ngebuild', 'kelas', 'o', 'april', 'temu', 'bni', 'account', 'jun', 'hemat', 'jt', 'oct', 'yth', 'mb', 'kena', 'tarif', 'non', 'kecewa', 'lulu', 'nuhuun', 'pasir', 'koja', 'cmn', 'bangun', 'interview', 'toko', 'gedung', 'manunggal', 'tridaya', 'pucakti', 'pusenkav', 'hunting', 'depaaan', 'jahaaat', 'pisaaan', 'registrasi', 'tanggal', 'format', 'ddmmyyyy', 'route', 'project', 'tembak', 'pager', 'garasi', 'tutup', 'rumput', 'liar', 'hehehehe', 'pasang', 'salam', 'jepret', 'karet', 'gelang', 'ingetin', 'publish', 'develop', 'jurus', 'komisi', 'ciprat', 'hapapa', 'seengganya', 'report', 'bumiputera', 'ngedit', 'nomer', 'post', 'opsi', 'nabung', 'semester', 'tsb', 'duluan', 'brsik', 'cuti', 'bati', 'har', 'seri', 'pg', 'jeblok', 'kemarin', 'batas', 'ijin', 'undur', 'japri', 'middle', 'eastern', 'woman', 'sd', 'gameprog', 'lisan', 'jaga', 'perilaku', 'simpul', 'debat', 'cupu', 'ilmu', 'pertanggungjawaban', 'teliti', 'moal', 'pegang', 'ortu', 'ngobrol', 'client', 'scroll', 'down', 'olshop', 'gada', 'izin', 'stres', 'lunas', 'disc', 'aty', 'legal', 'lelah', 'byr', 'payment', 'solusi', 'dscn', 'lolyta', 'wa', 'dana', 'tunai', 'kta', 'cc', 'rate', 'cair', 'mhn', 'menggangu', 'roxi', 'cell', 'agen', 'elektrik', 'operator', 'v', 'ketik', 'mtronik', 'ramadhan', 'selamat', 'code', 'brminat', 'mtor', 'scond', 'brg', 'istmwa', 'sj', 'dsini', 'mnyediakn', 'unit', 'thn', 'ms', 'dediktp', 'yk', 'togel', 'tembus', 'shio', 'tunggal', 'mahar', 'khusus', 'sgp', 'suara', 'dengar', 'tekan', 'biaya', 'pmain', 'sring', 'kalah', 'mbah', 'joko', 'bisah', 'mbntu', 'retuwal', 'aneka', 'shop', 'type', 'blackberry', 'dakota', 'tourch', 'onix', 'gemini', 'bb', 'anyonghaseyo', 'ngaku', 'kpopers', 'sejati', 'lengkap', 'koleksi', 'video', 'kpopmu', 'loh', 'artha', 'diskon', 'elektronik', 'juta', 'onyx', 'camera', 'ass', 'tanah', 'sy', 'sdah', 'survei', 'mrasa', 'cocok', 'nego', 'hubung', 'suami', 'haji', 'dermawan', 'randy', 'mobil', 'kondisi', 'utk', 'bicara', 'hrg', 'h', 'darmawan', 'wahyu', 'bpk', 'saudara', 'jusman', 'safei', 'by', 'hj', 'suri', 'survey', 'sigit', 'tlp', 'sugiyono', 'tempo', 'mngenai', 'toyotanya', 'tlong', 'negosiasi', 'abdullah', 'reski', 'costumer', 'servis', 'plaza', 'semanggi', 'jl', 'jend', 'sudirman', 'jkt', 'pst', 'undi', 'sambung', 'krimkn', 'lwt', 'jatuh', 'suzuki', 'ertiga', 'website', 'alaiqum', 'nenek', 'ulsa', 'telpon', 'xl', 'tukokno', 'as', 'ndisek', 'iki', 'nmrku', 'anyar', 'saiki', 'enten', 'penteng', 'msalah', 'polisi', 'belanja', 'z', 'resky', 'discon', 'samsung', 'ipad', 'nokia', 'kunjung', 'belikan', 'simpati', 'hpnya', 'pinjam', 'bella', 'bang', 'nulis', 'aq', 'serba', 'tlpn', 'telp', 'berkah', 'mndpt', 'verifikasi', 'situs', 'resmi', 'berkat', 't', 'sbg', 'kejut', 'planet', 'big', 'sale', 'discound', 'iphone', 'sinar', 'city', 'discond', 'torch', 'davis', 'anita', 'sal', 'ii', 'invite', 'to', 'bbm', 'rekening', 'milik', 'cs', 'bpr', 'syariah', 'yogya', 'sertipikat', 'rendah', 'yani', 'cahaya', 'travel', 'terbang', 'domestic', 'internasional', 'booking', 'kelik', 'casino', 'raih', 'bonus', 'cashback', 'sportsbook', 'main', 'smartphone', 'pc', 'domestik', 'aman', 'klick', 'international', 'ditravel', 'kmi', 'total', 'rupiah', 'daptkn', 'pesawat', 'and', 'inih', 'penring', 'digantiin', 'rek', 'xxx', 'ismawati', 'ticket', 'super', 'junior', 'lady', 'gaga', 'juni', 'gold', 'tribun', 'webs', 'gebyar', 'indosat', 'edisi', 'priode', 'telkomselpoin', 'trpilih', 'gratis', 'nelpon', 'slma', 'isiulang', 'sesame', 'dengna', 'maks', 'us', 'internetan', 'axismu', 'hg', 'krm', 'ckp', 'galaxy', 'cp', 'versi', 'demo', 'guntur', 'balas', 'stop', 'unruk', 'henti', 'facebook', 'hi', 'kmu', 'gita', 'bola', 'n', 'prediksi', 'akurat', 'unreg', 'hquarters', 'business', 'residence', 'lokasi', 'afrika', 'prelaunch', 'profit', 'roi', 'tsm', 'indomarcocell', 'tawar', 'jdi', 'agenpulsa', 'mkios', 'oprator', 'lukis', 'indosatpoin', 'simcard', 'sahkan', 'indovison', 'rbu', 'bln', 'cema', 'hsil', 'sbgi', 'semarak', 'indofood', 'hormat', 'pesta', 'pkl', 'sctv', 'dftr', 'pop', 'mie', 'mndptkn', 'nissan', 'juke', 'slmt', 'dftar', 'pmnang', 'care', 'i', 'toyota', 'yaris', 'mazda', 'e', 'men', 'dptkn', 'tbl', 'br', 'drs', 'naldisuparman', 'kredit', 'firli', 'agun', 'standart', 'chartered', 'akbar', 'trimksh', 'jk', 'rmh', 'massal', 'hny', 'jogja', 'jitu', 'semarang', 'raja', 'pnjam', 'orng', 'tlng', 'bliin', 'pls', 'nomr', 'brunya', 'msalh', 'nnti', 'bri', 'sri', 'narti', 'telepon', 'andika', 'septiana', 'ir', 'mayani', 'murtiani', 'rasto', 'murdoyo', 'reza', 'prasetya', 'ali', 'syamsudin', 'wahyudi', 'alamsyah', 'untung', 'myvplus', 'lsg', 'voucher', 'point', 'regular', 'hd', 'sukses', 'putera', 'gaib', 'mastertogel', 'kak', 'ktr', 'trsambung', 'bhw', 'mendpt', 'jaguar', 'mnghubungi', 'card', 'axis', 'hadian', 'bisnis', 'bentuk', 'sumargani', 'kav', 'sulit', 'all', 'andrianto', 'djunaedi', 'trms', 'arya', 'mas', 'kg', 'bliung', 'britama', 'krim', 'suryani', 'vip', 'games', 'dl', 'tdak', 'tersmbung', 'tanjung', 'sulaiman', 'tks', 'angsur', 'yogi', 'kuasa', 'an', 'iklan', 'flat', 'simpan', 'ni', 'kontra', 'chandra', 'sys', 'dh', 'sepenuh', 'ratna', 'meganai', 'bandara', 'arif', 'iskandar', 'esian', 'plz', 'kna', 'nu', 'ayena', 'mamah', 'pangmeserkeun', 'heula', 'kana', 'ieu', 'tong', 'nuju', 'riiweh', 'ayeuna', 'f', 'rasti', 'creditcard', 'apply', 'bintang', 'lombok', 'ajar', 'status', 'popmie', 'tipu', 'cliponyu', 'dahsyat', 'host', 'cantik', 'clip', 'mega', 'cip', 'prima', 'tama', 'dacota', 'iphon', 'ruma', 'surpai', 'irawan', 'cover', 'area', 'daerah', 'bi', 'cheking', 'lngsng', 'bfi', 'finance', 'oktra', 'mariadi', 'sihaloho', 'lejit', 'pintar', 'kursus', 'aktifasi', 'smangat', 'otak', 'anak', 'mningkat', 'terusin', 'suyono', 'shd', 'sya', 'modal', 'npwp', 'pribdi', 'asuransi', 'ani', 'slip', 'gaji', 'mido', 'nagamas', 'elecktronik', 'rbq', 'nak', 'yanti', 'ngurus', 'tilang', 'mks', 'ardiansa', 'trima', 'tipon', 'mndptkan', 'rakyat', 'ijh', 'mdpt', 'beliung', 'triplle', 'u', 'menghub', 'prihal', 'tabugan', 'rekning', 'tbungn', 'monitor', 'gunakn', 'kmbli', 'kntor', 'hrap', 'pk', 'aryadhi', 'nasib', 'bakti', 'rutin', 'ringan', 'beban', 'wallppr', 'nutrisi', 'slh', 'berfikir', 'positif', 'nfo', 'pangmeulikeun', 'bpa', 'anu', 'tuanai', 'tricare', 'gsm', 'kopi', 'jahe', 'hut', 'sgr', 'laksana', 'sidomuncul', 'plus', 'fh', 'muliani', 'rezky', 'ulanag', 'lenkap', 'mendptkan', 'token', 'pln', 'th', 'er', 'dedy', 'software', 'gateway', 'pilkada', 'sekolah', 'instansi', 'jasa', 'advertising', 'corp', 'setor', 'iwan', 'indomobil', 'reg', 'hypermind', 'krt', 'custumer', 'nila', 'bg', 'lv', 'honda', 'jazz', 'rs', 'slamat', 'tpilih', 'pmenang', 'mendpatkn', 'mendptkn', 'surianto', 'hadiahlik', 'keik', 'setia', 'miliard', 'bunas', 'tbk', 'wilayah', 'andi', 'plenetcell', 'p', 'hhb', 'avanza', 'pengundiang', 'tronik', 'plgn', 'hm', 'sampoerna', 'rian', 'harino', 'opoerator', 'tlah', 'mg', 'mnctv', 'desi', 'hermawati', 'pd', 'trsmbung', 'desy', 'hutchison', 'jtuh', 'bhwa', 'pnjaman', 'tnpa', 'syrt', 'ft', 'cpy', 'krtu', 'ari', 'orlando', 'cuci', 'gudang', 'apple', 'caturgadget', 'ymail', 'lebaran', 'genuine', 'jaya', 'garsindo', 'transaksi', 'pertamina', 'persero', 'karyawan', 'cv', 'ijazah', 'photo', 'notip', 'pertaminareckrutment', 'rejeki', 'taplus', 'xy', 'mraih', 'medptkan', 'mslh', 'sopi', 'arum', 'prasodjo', 'pos', 'pemberitahuan', 'siar', 'prosedur', 'belikn', 'tmn', 'yacc', 'khawatir', 'sesi', 'event', 'ardiansah', 'pswt', 'hrga', 'reservasi', 'praktis', 'asli', 'akreditasi', 'kilat', 'instan', 'getlucky', 'member', 'terdftr', 'diprog', 'nelp', 'cekbns', 'kpd', 'rwd', 'spam', 'bayu', 'kntr', 'dwi', 'hartanto', 'alphard', 'maret', 'wardoyo', 'mdptkan', 'cektunai', 'freed', 'tdi', 'mlm', 'rcti', 'mulyadi', 'rpilih', 'l', 'ngsung', 'ndptkan', 'denpasar', 'wakil', 'kewirausahaan', 'transport', 'direktur', 'dikti', 'prof', 'purwanto', 'wahyudin', 'zarkasi', 'referensi', 'ptx', 'yunit', 'slmat', 'muliyadi', 'lnfo', 'hdiah', 'risal', 'mdpat', 'serianto', 'nov', 'download', 'mytelkomsel', 'apps', 'skb', 'ekstra', 'sjk', 'detail', 'tsel', 'iring', 'hits', 'armada', 'curi', 'volume', 'ultima', 'coboy', 'jr', 'noah', 'engkau', 'yuni', 'shara', 'tkn', 'thr', 'puluhanjt', 'hobi', 'spasi', 'nonaktif', 'sblm', 'zona', 'chatting', 'puas', 'whatsapp', 'setting', 'ponsel', 'aktivasi', 'kupon', 'biber', 'reguler', 'kb', 'agam', 'kenyang', 'tlh', 'tukar', 'hadih', 'g', 'november', 'angpaopoinsenyum', 'vchr', 'lottemart', 'normal', 'perkedel', 'pucuk', 'cfc', 'hasan', 'sadikin', 'sedia', 'medan', 'sticker', 'stickernya', 'axisnet', 'store', 'bronet', 'obor', 'ld', 'dukung', 'lestari', 'alam', 'ooredoo', 'donasi', 'kawal', 'subsidi', 'kompensasi', 'adu', 'banting', 'ekspresi', 'freedom', 'combo', 'internetas', 'lychee', 'latte', 'flavour', 'yellow', 'truck', 'patuha', 'gajah', 'wonderland', 'mei', 'donut', 'dunkin', 'donuts', 'borma', 'setiabudhi', 'turbo', 'extra', 'dapetkan', 'ooredo', 'jan', 'argo', 'grabcar', 'rencang', 'sareng', 'buktikeun', 'nyalira', 'mycare', 'freedoom', 'piknik', 'hongkong', 'androidmu', 'items', 'pokemon', 'go', 'bigo', 'coc', 'buy', 'get', 'trans', 'unlimited', 'ktk', 'pan', 'komunikasi', 'mcdonalds', 'tap', 'stiker', 'dominos', 'pizza', 'roti', 'tebal', 'keju', 'pinggir', 'panpizza', 'co', 'lte', 'my', 'cappuccino', 'freza', 'excelso', 'cafe', 'solo', 'agust', 'wendy', 'crispy', 'chicken', 'sandwich', 'minimal', 'timezone', 'cipika', 'kuliner', 'gadget', 'fashion', 'dear', 'customer', 'kindly', 'values', 'your', 'experience', 'at', 'score', 'between', 'poor', 'excellent', 'send', 'for', 'int', 'charged', 'domino', 'value', 'range', 'vr', 'urangbandung', 'repot', 'parkir', 'ngegrab', 'smua', 'gatot', 'soebroto', 'double', 'seru', 'premium', 'larissa', 'aesthetic', 'high', 'treatment', 'jiwa', 'galeri', 'jateng', 'diy', 'utama', 'senyum', 'jmlh', 'rehabilitasi', 'kembang', 'potensi', 'ypac', 'mari', 'etik', 'agt', 'gallery', 'smartfren', 'smartfrenmu', 'andromax', 'mifi', 'doublescoop', 'ice', 'cream', 'gerai', 'indosatooredoo', 'jaring', 'cobagrabcar', 'ajak', 'keliling', 'tanp', 'grabtaxi', 'grabtravel', 'hatur', 'tagih', 'listrik', 'minimun', 'rl', 'hallo', 'bro', 'koin', 'sob', 'urang', 'mang', 'ado', 'rancak', 'kampuang', 'guy', 'music', 'streaming', 'sekrang', 'tl', 'bronetspecial', 'special', 'blanja', 'blj', 'xxi', 'nrml', 'stok', 'dateng', 'mumpung', 'ustad', 'fatih', 'karim', 'islam', 'felix', 'siaw', 'mesan', 'taxi', 'hot', 'agsts', 'spreading', 'the', 'input', 'this', 'referral', 'credit', 'first', 'gojekgotmehere', 'jobfairactive', 'ujiklyakankerjaberstifikat', 'plasatelkommlg', 'platihan', 'ph', 'sumo', 'tcashmu', 'atm', 'rawit', 'ibadah', 'nyaman', 'prlu', 'lokal', 'pai', 'lari', 'prog', 'mu', 'baskin', 'robbins', 'scoop', 'lho', 'langka', 'gb', 'loopers', 'tren', 'challenge', 'loop', 'follow', 'lgs', 'doyan', 'slm', 'pnwrn', 'kocak', 'aksi', 'pemuda', 'galau', 'iseng', 'gokil', 'kepung', 'tonton', 'comic', 'film', 'dikit', 'lanjutin', 'gamesmu', 'lets', 'rich', 'google', 'play', 'pakettelkomselflash', 'otomatis', 'jawa', 'timur', 'dki', 'nsp', 'keren', 'ribet', 'internetmu', 'gift', 'smuanya', 'gatis', 'sf', 'surveu', 'singkat', 'musik', 'jajan', 'nge', 'aliando', 'merdeka', 'migrasi', 'kartuhalo', 'hinga', 'wow', 'rahasia', 'sin', 'thailand', 'hk', 'china', 'usa', 'fried', 'minum', 'party', 'dine', 'away', 'may', 'discount', 'bakmi', 'gm', 'sli', 'negara', 'chn', 'mla', 'hkg', 'sng', 'twn', 'vtm', 'macau', 'kuat', 'pkt', 'agst', 'visa', 'midnight', 'hgg', 'iur', 'bpjs', 'mini', 'sn', 'netmax', 'identitas', 'vd', 'handphone', 'axiata', 'restart', 'skema', 'kebut', 'pcs', 'ngebut', 'off', 'update', 'dave', 'single', 'burger', 'small', 'fries', 'obral', 'rtx', 'bhs', 'english', 'favorit', 'tselpoin', 'quota', 'voice', 'ri', 'miring', 'bolak', 'dst', 'im', 'bns', 'yes', 'berrybenka', 'tw', 'lazada', 'tst']\n"
     ]
    }
   ],
   "source": [
    "term = ppy.getAllTerm()\n",
    "print(term)"
   ]
  },
  {
   "cell_type": "code",
   "execution_count": 5,
   "metadata": {},
   "outputs": [],
   "source": [
    "import re\n",
    "\n",
    "def rowTF(term, data):\n",
    "    arrayTF = []\n",
    "    for i in range(len(term)):\n",
    "        row = []\n",
    "        for j in range(len(data)):\n",
    "            temp = re.findall(term[i],data[j][0])\n",
    "            row.append(len(temp))\n",
    "        arrayTF.append(row)\n",
    "    return arrayTF"
   ]
  },
  {
   "cell_type": "code",
   "execution_count": 6,
   "metadata": {},
   "outputs": [],
   "source": [
    "# print(rowTF(term, getData()))"
   ]
  },
  {
   "cell_type": "code",
   "execution_count": 7,
   "metadata": {},
   "outputs": [],
   "source": [
    "import math\n",
    "\n",
    "def count(arrayData, term, kelas):\n",
    "    result = 0\n",
    "    for i in range(len(arrayData)):\n",
    "        if arrayData[i][1] == kelas:\n",
    "            result += len(re.findall(term, arrayData[i][0]))\n",
    "    return result\n",
    "\n",
    "def countKelas(arrayData, kelas, arrayTF):\n",
    "    result = 0\n",
    "    for i in range(len(arrayData)):\n",
    "        if arrayData[i][1] == kelas:\n",
    "            for j in range(len(arrayTF)):\n",
    "                result += arrayTF[j][i]\n",
    "    return result\n",
    "\n",
    "def Pa(arrayProb, arrayTerm, termBaru, indexKelas):\n",
    "    result = 0\n",
    "    for i in range(len(arrayTerm)):\n",
    "        for j in range(len(termBaru)):\n",
    "            if arrayTerm[i] == termBaru[j]:\n",
    "#                 print(arrayProb[i][indexKelas])\n",
    "                result += arrayProb[i][indexKelas]\n",
    "    return result\n",
    "\n",
    "def P(arrayProb, arrayTerm, termBaru, indexKelas):\n",
    "    result = 1\n",
    "    for i in range(len(termBaru)):\n",
    "        for j in range(len(arrayTerm)):\n",
    "            if arrayTerm[j] == termBaru[i]:\n",
    "#                 print(arrayProb[j][indexKelas])\n",
    "                result *= arrayProb[j][indexKelas]\n",
    "#                 print(result)\n",
    "    return result\n",
    "\n",
    "def getKelas(arrayData):\n",
    "    kelas = []\n",
    "    for i in range(len(arrayData)):\n",
    "        kelas.append(arrayData[i][1])\n",
    "    return sorted(list(set(kelas)))\n",
    "    \n",
    "def probLikelihood(arrayData, arrayTerm): #probability likelihood P(x|kategori)\n",
    "    P = []\n",
    "    TF = rowTF(arrayTerm, arrayData)\n",
    "    kelas = getKelas(arrayData)\n",
    "    for i in range(len(arrayTerm)):\n",
    "        row = []\n",
    "        for j in range(len(kelas)):\n",
    "            row.append((count(arrayData, arrayTerm[i], kelas[j])+1)/(countKelas(arrayData, kelas[j], TF)+len(TF)))\n",
    "        P.append(row)\n",
    "    return P\n",
    "\n",
    "def posterior(arrayData, prob, dataBaru, arrayTerm):\n",
    "    kelas = getKelas(arrayData)\n",
    "    result = []\n",
    "    for i in range(len(kelas)):\n",
    "#         print(Pa(prob, arrayTerm, dataBaru, i))\n",
    "#         print(P(prob, arrayTerm, dataBaru, i))\n",
    "        result.append(Pa(prob, arrayTerm, dataBaru, i) * P(prob, arrayTerm, dataBaru, i))\n",
    "#         print(\"\\n\")\n",
    "    return result\n",
    "\n",
    "def cekKelas(post, arrayData):\n",
    "    kelas = getKelas(arrayData)\n",
    "    max = 0\n",
    "    index = 0\n",
    "    for i in range(len(post)):\n",
    "        if post[i] > max:\n",
    "            max = post[i]\n",
    "            index = i\n",
    "    return kelas[index]\n",
    "\n",
    "def hitungTingkatAkurasi(uji, postKelas):\n",
    "    result = 0\n",
    "    for i in range(len(uji)):\n",
    "        if uji[i][\"label\"] == postKelas[i]:\n",
    "            result += 1\n",
    "    return result/len(uji) * 100\n",
    "\n",
    "    "
   ]
  },
  {
   "cell_type": "code",
   "execution_count": 8,
   "metadata": {},
   "outputs": [
    {
     "name": "stdout",
     "output_type": "stream",
     "text": [
      "Processed 914 lines.\n",
      "Processed 228 lines.\n"
     ]
    }
   ],
   "source": [
    "dataTraining = getData()\n",
    "\n",
    "uji = openFileCsv('data_uji.csv')\n",
    "dataUji = []\n",
    "for i in range(len(uji)):\n",
    "    dataUji.append(ppy.generateTerm(uji[i][\"Teks\"]))\n",
    "    \n",
    "prob = probLikelihood(dataTraining, term)\n",
    "\n",
    "# for i in range(len(dataUji)):\n",
    "#     print(dataUji[i])\n",
    "# print(\"\\n\")"
   ]
  },
  {
   "cell_type": "code",
   "execution_count": 9,
   "metadata": {},
   "outputs": [
    {
     "name": "stdout",
     "output_type": "stream",
     "text": [
      "\n",
      "Tingkat Akurasi = 87.719298%\n"
     ]
    }
   ],
   "source": [
    "kelas = []\n",
    "for i in range(len(dataUji)):\n",
    "    post = posterior(dataTraining, prob, dataUji[i], term)\n",
    "    kelas.append(cekKelas(post, dataTraining))\n",
    "#     print(\"data ke %d -> %s\" % (i+1, cekKelas(post, dataTraining)))\n",
    "    \n",
    "print(\"\\nTingkat Akurasi = %f%%\" %hitungTingkatAkurasi(uji, kelas))"
   ]
  },
  {
   "cell_type": "code",
   "execution_count": 23,
   "metadata": {},
   "outputs": [
    {
     "name": "stdout",
     "output_type": "stream",
     "text": [
      "Masukkan kalimat : halo sayang\n",
      "Termasuk kedalam kelas 0\n"
     ]
    }
   ],
   "source": [
    "def generateArray(string):\n",
    "    return string.split(\" \")\n",
    "\n",
    "dataInput = input(\"Masukkan kalimat : \")\n",
    "singleDocument = posterior(dataTraining, prob, generateArray(dataInput), term)\n",
    "print(\"Termasuk kedalam kelas %s\" %cekKelas(singleDocument, dataTraining))"
   ]
  },
  {
   "cell_type": "code",
   "execution_count": null,
   "metadata": {},
   "outputs": [],
   "source": []
  }
 ],
 "metadata": {
  "kernelspec": {
   "display_name": "Python 3",
   "language": "python",
   "name": "python3"
  },
  "language_info": {
   "codemirror_mode": {
    "name": "ipython",
    "version": 3
   },
   "file_extension": ".py",
   "mimetype": "text/x-python",
   "name": "python",
   "nbconvert_exporter": "python",
   "pygments_lexer": "ipython3",
   "version": "3.6.5"
  }
 },
 "nbformat": 4,
 "nbformat_minor": 2
}
