{
 "cells": [
  {
   "cell_type": "code",
   "execution_count": 1,
   "metadata": {},
   "outputs": [],
   "source": [
    "import csv"
   ]
  },
  {
   "cell_type": "code",
   "execution_count": 2,
   "metadata": {},
   "outputs": [],
   "source": [
    "def openFileCsv(namaFile):\n",
    "    data_hasil = []\n",
    "    with open(namaFile, mode='r', encoding='utf8') as csv_file:\n",
    "        csv_reader = csv.DictReader(csv_file)\n",
    "        line_count = 0\n",
    "        for row in csv_reader:\n",
    "            data_hasil.append(row)\n",
    "            line_count += 1\n",
    "        print(f'Processed {line_count} lines.')\n",
    "    return data_hasil"
   ]
  },
  {
   "cell_type": "code",
   "execution_count": 3,
   "metadata": {},
   "outputs": [
    {
     "name": "stdout",
     "output_type": "stream",
     "text": [
      "Processed 5 lines.\n",
      "[OrderedDict([('Teks', 'Sekarang saya sedang suka memasak. Masakan kesukaan saya sekarang adalah nasi goreng. Cara memasak nasi goreng adalah nasi digoreng'), ('label', 'A')]), OrderedDict([('Teks', 'Ukuran nasi sangatlah kecil, namun saya selalu makan nasi'), ('label', 'A')]), OrderedDict([('Teks', 'Nasi berasal dari beras yang ditanam di sawah. Sawah berukuran kecil hanya bisa ditanami sedikit beras'), ('label', 'B')]), OrderedDict([('Teks', 'Mobil dan bus dapat mengangkut banyak penumpang. Namun, bus berukuran jauh lebih besar dari mobil, apalagi mobil-mobilan'), ('label', 'B')]), OrderedDict([('Teks', 'Bus pada umumnya berukuran besar dan berpenumpang banyak, sehingga bus tidak bisa melewati persawahan'), ('label', 'C')])]\n"
     ]
    }
   ],
   "source": [
    "data = openFileCsv('Book1.csv')\n",
    "print(data)"
   ]
  },
  {
   "cell_type": "code",
   "execution_count": 4,
   "metadata": {},
   "outputs": [],
   "source": [
    "term = [\"suka\", \"masak\", \"nasi\", \"goreng\", \"ukur\", \"makan\", \"beras\", \"tanam\", \"sawah\", \"mobil\", \"bus\", \"angkut\", \"tumpang\"]"
   ]
  },
  {
   "cell_type": "code",
   "execution_count": 5,
   "metadata": {},
   "outputs": [],
   "source": [
    "import re\n",
    "\n",
    "def rowTF(term, data):\n",
    "    arrayTF = []\n",
    "    for i in range(len(term)):\n",
    "        row = []\n",
    "        for j in range(len(data)):\n",
    "            temp = re.findall(term[i],data[j][\"Teks\"])\n",
    "            row.append(len(temp))\n",
    "        arrayTF.append(row)\n",
    "    return arrayTF"
   ]
  },
  {
   "cell_type": "code",
   "execution_count": 6,
   "metadata": {},
   "outputs": [
    {
     "name": "stdout",
     "output_type": "stream",
     "text": [
      "[[2, 0, 0, 0, 0], [2, 0, 0, 0, 0], [3, 2, 0, 0, 0], [3, 0, 0, 0, 0], [0, 0, 1, 1, 1], [0, 1, 0, 0, 0], [0, 0, 3, 0, 0], [0, 0, 2, 0, 0], [0, 0, 1, 0, 1], [0, 0, 0, 3, 0], [0, 0, 0, 2, 1], [0, 0, 0, 1, 0], [0, 0, 0, 0, 0]]\n"
     ]
    }
   ],
   "source": [
    "print(rowTF(term, data))"
   ]
  },
  {
   "cell_type": "code",
   "execution_count": 7,
   "metadata": {},
   "outputs": [],
   "source": [
    "import math\n",
    "\n",
    "def count(arrayData, term, kelas):\n",
    "    result = 0\n",
    "    for i in range(len(arrayData)):\n",
    "        if arrayData[i][\"label\"] == kelas:\n",
    "            result += len(re.findall(term, arrayData[i][\"Teks\"]))\n",
    "    return result\n",
    "\n",
    "def countKelas(arrayData, kelas, arrayTF):\n",
    "    result = 0\n",
    "    for i in range(len(arrayData)):\n",
    "        if arrayData[i][\"label\"] == kelas:\n",
    "            for j in range(len(arrayTF)):\n",
    "                result += arrayTF[j][i]\n",
    "    return result\n",
    "\n",
    "def Pa(arrayProb, arrayTerm, termBaru, indexKelas):\n",
    "    result = 0\n",
    "    for i in range(len(arrayTerm)):\n",
    "        for j in range(len(termBaru)):\n",
    "            if arrayTerm[i] == termBaru[j]:\n",
    "#                 print(arrayProb[i][indexKelas])\n",
    "                result += arrayProb[i][indexKelas]\n",
    "    return result\n",
    "\n",
    "def P(arrayProb, arrayTerm, termBaru, indexKelas):\n",
    "    result = 1\n",
    "    for i in range(len(termBaru)):\n",
    "        for j in range(len(arrayTerm)):\n",
    "            if arrayTerm[j] == termBaru[i]:\n",
    "#                 print(arrayProb[j][indexKelas])\n",
    "                result *= arrayProb[j][indexKelas]\n",
    "#                 print(result)\n",
    "    return result\n",
    "\n",
    "def getKelas(arrayData):\n",
    "    kelas = []\n",
    "    for i in range(len(arrayData)):\n",
    "        kelas.append(arrayData[i][\"label\"])\n",
    "    return sorted(list(set(kelas)))\n",
    "    \n",
    "def probLikelihood(arrayData, arrayTerm): #probability likelihood P(x|kategori)\n",
    "    P = []\n",
    "    TF = rowTF(arrayTerm, arrayData)\n",
    "    kelas = getKelas(arrayData)\n",
    "    for i in range(len(arrayTerm)):\n",
    "        row = []\n",
    "        for j in range(len(kelas)):\n",
    "            row.append((count(arrayData, arrayTerm[i], kelas[j])+1)/(countKelas(arrayData, kelas[j], TF)+len(TF)))\n",
    "        P.append(row)\n",
    "    return P\n",
    "\n",
    "def posterior(arrayData, prob, dataBaru, arrayTerm):\n",
    "    kelas = getKelas(arrayData)\n",
    "    result = []\n",
    "    for i in range(len(kelas)):\n",
    "#         print(Pa(prob, arrayTerm, dataBaru, i))\n",
    "#         print(P(prob, arrayTerm, dataBaru, i))\n",
    "        result.append(Pa(prob, arrayTerm, dataBaru, i) * P(prob, arrayTerm, dataBaru, i))\n",
    "#         print(\"\\n\")\n",
    "    return result\n",
    "\n",
    "def cekKelas(post, arrayData):\n",
    "    kelas = getKelas(arrayData)\n",
    "    max = 0\n",
    "    index = 0\n",
    "    for i in range(len(post)):\n",
    "        if post[i] > max:\n",
    "            max = post[i]\n",
    "            index = i\n",
    "    return kelas[index]"
   ]
  },
  {
   "cell_type": "code",
   "execution_count": 8,
   "metadata": {},
   "outputs": [
    {
     "name": "stdout",
     "output_type": "stream",
     "text": [
      "A\n"
     ]
    }
   ],
   "source": [
    "prob = probLikelihood(data, term)\n",
    "post = posterior(data, prob, [\"nasi\", \"goreng\"], term)\n",
    "print(cekKelas(post, data))\n"
   ]
  },
  {
   "cell_type": "code",
   "execution_count": null,
   "metadata": {},
   "outputs": [],
   "source": []
  }
 ],
 "metadata": {
  "kernelspec": {
   "display_name": "Python 3",
   "language": "python",
   "name": "python3"
  },
  "language_info": {
   "codemirror_mode": {
    "name": "ipython",
    "version": 3
   },
   "file_extension": ".py",
   "mimetype": "text/x-python",
   "name": "python",
   "nbconvert_exporter": "python",
   "pygments_lexer": "ipython3",
   "version": "3.6.5"
  }
 },
 "nbformat": 4,
 "nbformat_minor": 2
}
